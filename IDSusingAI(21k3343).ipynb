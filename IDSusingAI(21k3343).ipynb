{
  "nbformat": 4,
  "nbformat_minor": 0,
  "metadata": {
    "colab": {
      "provenance": [],
      "include_colab_link": true
    },
    "kernelspec": {
      "name": "python3",
      "display_name": "Python 3"
    },
    "language_info": {
      "name": "python"
    }
  },
  "cells": [
    {
      "cell_type": "markdown",
      "metadata": {
        "id": "view-in-github",
        "colab_type": "text"
      },
      "source": [
        "<a href=\"https://colab.research.google.com/github/Mohibl-6568/Network-IDS-AI-/blob/main/IDSusingAI(21k3343).ipynb\" target=\"_parent\"><img src=\"https://colab.research.google.com/assets/colab-badge.svg\" alt=\"Open In Colab\"/></a>"
      ]
    },
    {
      "cell_type": "code",
      "execution_count": null,
      "metadata": {
        "id": "0cUBs7jpVZtP"
      },
      "outputs": [],
      "source": [
        "import numpy as np\n",
        "import pandas as pd\n",
        "import matplotlib.pyplot as plt\n",
        "%matplotlib inline"
      ]
    },
    {
      "cell_type": "code",
      "source": [
        "!pip install ydata-profiling"
      ],
      "metadata": {
        "id": "qAei3ZNMesJ8"
      },
      "execution_count": null,
      "outputs": []
    },
    {
      "cell_type": "code",
      "source": [
        "import itertools\n",
        "import seaborn as sns\n",
        "import ydata_profiling\n",
        "import statsmodels.formula.api as sm\n",
        "from statsmodels.stats.outliers_influence import variance_inflation_factor\n",
        "from patsy import dmatrices"
      ],
      "metadata": {
        "id": "P0kQgadJVwmz"
      },
      "execution_count": null,
      "outputs": []
    },
    {
      "cell_type": "code",
      "source": [
        "from sklearn import datasets\n",
        "from sklearn.feature_selection import RFE\n",
        "import sklearn.metrics as metrics\n",
        "from sklearn.linear_model import LogisticRegression\n",
        "from sklearn.feature_selection import SelectKBest\n",
        "from sklearn.feature_selection import chi2, f_classif, mutual_info_classif"
      ],
      "metadata": {
        "id": "5al77XZsWU23"
      },
      "execution_count": null,
      "outputs": []
    },
    {
      "cell_type": "code",
      "source": [
        "train=pd.read_csv('/content/Dataset/Train.txt',sep=',')\n",
        "test=pd.read_csv('/content/Dataset/Test.txt',sep=',')"
      ],
      "metadata": {
        "id": "Q-bNaKpVXPYY"
      },
      "execution_count": null,
      "outputs": []
    },
    {
      "cell_type": "code",
      "source": [
        "train.head()"
      ],
      "metadata": {
        "id": "MS1Y-_ICXs8S"
      },
      "execution_count": null,
      "outputs": []
    },
    {
      "cell_type": "code",
      "source": [
        "columns=[\"duration\",\"protocol_type\",\"service\",\"flag\",\"src_bytes\",\"dst_bytes\",\"land\",\"wrong_fragment\",\"urgent\",\"hot\",\n",
        "         \"num_failed_logins\",\"logged_in\",\"num_compromised\",\"root_shell\",\"su_attempted\",\"num_root\",\"num_file_creations\",\n",
        "         \"num_shells\",\"num_access_files\",\"num_outbound_cmds\",\"is_host_login\",\"is_guest_login\",\"count\",\"srv_count\",\"serror_rate\",\n",
        "         \"srv_serror_rate\",\"rerror_rate\",\"srv_rerror_rate\",\"same_srv_rate\",\"diff_srv_rate\",\"srv_diff_host_rate\",\n",
        "         \"dst_host_count\",\"dst_host_srv_count\",\"dst_host_same_srv_rate\",\"dst_host_diff_srv_rate\",\"dst_host_same_src_port_rate\",\n",
        "         \"dst_host_srv_diff_host_rate\",\"dst_host_serror_rate\",\"dst_host_srv_serror_rate\",\"dst_host_rerror_rate\",\n",
        "         \"dst_host_srv_rerror_rate\",\"attack\",\"last_flag\"]"
      ],
      "metadata": {
        "id": "-FdcRAS8Xvks"
      },
      "execution_count": null,
      "outputs": []
    },
    {
      "cell_type": "code",
      "source": [
        "len(columns)"
      ],
      "metadata": {
        "id": "GHmIZj29X1Ez"
      },
      "execution_count": null,
      "outputs": []
    },
    {
      "cell_type": "code",
      "source": [
        "train.columns=columns\n",
        "test.columns=columns"
      ],
      "metadata": {
        "id": "VCm31p6HX_gL"
      },
      "execution_count": null,
      "outputs": []
    },
    {
      "cell_type": "code",
      "source": [
        "train.head()"
      ],
      "metadata": {
        "id": "hSe0bRlgYCeO"
      },
      "execution_count": null,
      "outputs": []
    },
    {
      "cell_type": "code",
      "source": [
        "test.head()"
      ],
      "metadata": {
        "id": "zSyx1B5PYFpY"
      },
      "execution_count": null,
      "outputs": []
    },
    {
      "cell_type": "code",
      "source": [
        "train.info()"
      ],
      "metadata": {
        "id": "jAGJfRwcYLy6"
      },
      "execution_count": null,
      "outputs": []
    },
    {
      "cell_type": "code",
      "source": [
        "test.info()"
      ],
      "metadata": {
        "id": "fnooyRdSZdRW"
      },
      "execution_count": null,
      "outputs": []
    },
    {
      "cell_type": "code",
      "source": [
        "train.describe().T"
      ],
      "metadata": {
        "id": "5lHwNfGIZjp5"
      },
      "execution_count": null,
      "outputs": []
    },
    {
      "cell_type": "markdown",
      "source": [
        "In attack_class normal means 0, DOS means 1, PROBE means 2, R2L means 3 and U2R means 4."
      ],
      "metadata": {
        "id": "x3fqVMbRZzXP"
      }
    },
    {
      "cell_type": "code",
      "source": [
        "train.loc[train.attack=='normal','attack_class']=0\n",
        "\n",
        "train.loc[(train.attack=='back') | (train.attack=='land') | (train.attack=='pod') | (train.attack=='neptune') |\n",
        "         (train.attack=='smurf') | (train.attack=='teardrop') | (train.attack=='apache2') | (train.attack=='udpstorm') |\n",
        "         (train.attack=='processtable') | (train.attack=='worm') | (train.attack=='mailbomb'),'attack_class']=1\n",
        "\n",
        "train.loc[(train.attack=='satan') | (train.attack=='ipsweep') | (train.attack=='nmap') | (train.attack=='portsweep') |\n",
        "          (train.attack=='mscan') | (train.attack=='saint'),'attack_class']=2\n",
        "\n",
        "train.loc[(train.attack=='guess_passwd') | (train.attack=='ftp_write') | (train.attack=='imap') | (train.attack=='phf') |\n",
        "          (train.attack=='multihop') | (train.attack=='warezmaster') | (train.attack=='warezclient') | (train.attack=='spy') |\n",
        "          (train.attack=='xlock') | (train.attack=='xsnoop') | (train.attack=='snmpguess') | (train.attack=='snmpgetattack') |\n",
        "          (train.attack=='httptunnel') | (train.attack=='sendmail') | (train.attack=='named'),'attack_class']=3\n",
        "\n",
        "train.loc[(train.attack=='buffer_overflow') | (train.attack=='loadmodule') | (train.attack=='rootkit') | (train.attack=='perl') |\n",
        "          (train.attack=='sqlattack') | (train.attack=='xterm') | (train.attack=='ps'),'attack_class']=4"
      ],
      "metadata": {
        "id": "Jj8ixr48Zoaq"
      },
      "execution_count": null,
      "outputs": []
    },
    {
      "cell_type": "code",
      "source": [
        "test.loc[test.attack=='normal','attack_class']=0\n",
        "\n",
        "test.loc[(test.attack=='back') | (test.attack=='land') | (test.attack=='pod') | (test.attack=='neptune') |\n",
        "         (test.attack=='smurf') | (test.attack=='teardrop') | (test.attack=='apache2') | (test.attack=='udpstorm') |\n",
        "         (test.attack=='processtable') | (test.attack=='worm') | (test.attack=='mailbomb'),'attack_class']=1\n",
        "\n",
        "test.loc[(test.attack=='satan') | (test.attack=='ipsweep') | (test.attack=='nmap') | (test.attack=='portsweep') |\n",
        "          (test.attack=='mscan') | (test.attack=='saint'),'attack_class']=2\n",
        "\n",
        "test.loc[(test.attack=='guess_passwd') | (test.attack=='ftp_write') | (test.attack=='imap') | (test.attack=='phf') |\n",
        "          (test.attack=='multihop') | (test.attack=='warezmaster') | (test.attack=='warezclient') | (test.attack=='spy') |\n",
        "          (test.attack=='xlock') | (test.attack=='xsnoop') | (test.attack=='snmpguess') | (test.attack=='snmpgetattack') |\n",
        "          (test.attack=='httptunnel') | (test.attack=='sendmail') | (test.attack=='named'),'attack_class']=3\n",
        "\n",
        "test.loc[(test.attack=='buffer_overflow') | (test.attack=='loadmodule') | (test.attack=='rootkit') | (test.attack=='perl') |\n",
        "          (test.attack=='sqlattack') | (test.attack=='xterm') | (test.attack=='ps'),'attack_class']=4"
      ],
      "metadata": {
        "id": "rJTg5GQgby_o"
      },
      "execution_count": null,
      "outputs": []
    },
    {
      "cell_type": "code",
      "source": [
        "train.head()"
      ],
      "metadata": {
        "id": "1_JhVb4sb2KL"
      },
      "execution_count": null,
      "outputs": []
    },
    {
      "cell_type": "code",
      "source": [
        "train.shape"
      ],
      "metadata": {
        "id": "9jwitcPwcAhA"
      },
      "execution_count": null,
      "outputs": []
    },
    {
      "cell_type": "code",
      "source": [
        "output=ydata_profiling.ProfileReport(train)\n",
        "output"
      ],
      "metadata": {
        "id": "_xhKC8brcHk0"
      },
      "execution_count": null,
      "outputs": []
    },
    {
      "cell_type": "code",
      "source": [
        "output.to_file('pandas_profiling.html')"
      ],
      "metadata": {
        "id": "9Cg709kHRJez"
      },
      "execution_count": null,
      "outputs": []
    },
    {
      "cell_type": "code",
      "source": [
        "plt.figure(figsize=(6,3))\n",
        "sns.countplot(x=\"protocol_type\", data=train)\n",
        "plt.show()"
      ],
      "metadata": {
        "id": "42bR4HSO3OxK"
      },
      "execution_count": null,
      "outputs": []
    },
    {
      "cell_type": "code",
      "source": [
        "# service distribution\n",
        "plt.figure(figsize=(6,10))\n",
        "sns.countplot(y=\"service\", data=train)\n",
        "plt.show()"
      ],
      "metadata": {
        "id": "sCpMLfLg3caJ"
      },
      "execution_count": null,
      "outputs": []
    },
    {
      "cell_type": "code",
      "source": [
        "# flag distribution\n",
        "plt.figure(figsize=(6,3))\n",
        "sns.countplot(x=\"flag\", data=train)\n",
        "plt.show()"
      ],
      "metadata": {
        "id": "fpnLiLue3fUj"
      },
      "execution_count": null,
      "outputs": []
    },
    {
      "cell_type": "code",
      "source": [
        "# attack distribution\n",
        "plt.figure(figsize=(6,4))\n",
        "sns.countplot(y=\"attack\", data=train)\n",
        "plt.show()"
      ],
      "metadata": {
        "id": "skx6QzCp3jhH"
      },
      "execution_count": null,
      "outputs": []
    },
    {
      "cell_type": "code",
      "source": [
        "# attack class distribution\n",
        "plt.figure(figsize=(6,3))\n",
        "sns.countplot(x=\"attack_class\", data=train)\n",
        "plt.show()"
      ],
      "metadata": {
        "id": "na__kX-X3mqF"
      },
      "execution_count": null,
      "outputs": []
    },
    {
      "cell_type": "code",
      "source": [
        "numeric_var_names=[key for key in dict(train.dtypes) if dict(train.dtypes)[key] in ['float64', 'int64', 'float32', 'int32']]\n",
        "cat_var_names=[key for key in dict(train.dtypes) if dict(train.dtypes)[key] in ['object', 'O']]"
      ],
      "metadata": {
        "id": "xOT_H2bi3wTf"
      },
      "execution_count": null,
      "outputs": []
    },
    {
      "cell_type": "code",
      "source": [
        "numeric_var_names"
      ],
      "metadata": {
        "id": "wuA3fv313yjV"
      },
      "execution_count": null,
      "outputs": []
    },
    {
      "cell_type": "code",
      "source": [
        "cat_var_names"
      ],
      "metadata": {
        "id": "oDwLHd5I300N"
      },
      "execution_count": null,
      "outputs": []
    },
    {
      "cell_type": "code",
      "source": [
        "train_num=train[numeric_var_names]\n",
        "test_num=test[numeric_var_names]\n",
        "train_num.head(5)"
      ],
      "metadata": {
        "id": "Zqjf7_zk4AXM"
      },
      "execution_count": null,
      "outputs": []
    },
    {
      "cell_type": "code",
      "source": [
        "train_cat=train[cat_var_names]\n",
        "test_cat=test[cat_var_names]\n",
        "train_cat.head(5)"
      ],
      "metadata": {
        "id": "c6AWZLus4CZU"
      },
      "execution_count": null,
      "outputs": []
    },
    {
      "cell_type": "code",
      "source": [
        "# Creating Data audit Report\n",
        "def var_summary(x):\n",
        "    return pd.Series([x.count(), x.isnull().sum(), x.sum(), x.mean(), x.median(),  x.std(), x.var(), x.min(), x.dropna().quantile(0.01), x.dropna().quantile(0.05),x.dropna().quantile(0.10),x.dropna().quantile(0.25),x.dropna().quantile(0.50),x.dropna().quantile(0.75), x.dropna().quantile(0.90),x.dropna().quantile(0.95), x.dropna().quantile(0.99),x.max()],\n",
        "                  index=['N', 'NMISS', 'SUM', 'MEAN','MEDIAN', 'STD', 'VAR', 'MIN', 'P1' , 'P5' ,'P10' ,'P25' ,'P50' ,'P75' ,'P90' ,'P95' ,'P99' ,'MAX'])\n",
        "\n",
        "num_summary=train_num.apply(lambda x: var_summary(x)).T"
      ],
      "metadata": {
        "id": "btg6AtB-4Gmr"
      },
      "execution_count": null,
      "outputs": []
    },
    {
      "cell_type": "code",
      "source": [
        "num_summary"
      ],
      "metadata": {
        "id": "tv4nppNA4ItZ"
      },
      "execution_count": null,
      "outputs": []
    },
    {
      "cell_type": "code",
      "source": [
        "num_summary.to_csv('num_summary.csv')"
      ],
      "metadata": {
        "id": "qVhm1HZo4Onb"
      },
      "execution_count": null,
      "outputs": []
    },
    {
      "cell_type": "code",
      "source": [
        "#Handling Outliers\n",
        "def outlier_capping(x):\n",
        "    x = x.clip(upper=x.quantile(0.99))\n",
        "    x = x.clip(lower=x.quantile(0.01))\n",
        "    return x\n",
        "\n",
        "train_num=train_num.apply(outlier_capping)"
      ],
      "metadata": {
        "id": "wT0tIlR-4RAn"
      },
      "execution_count": null,
      "outputs": []
    },
    {
      "cell_type": "code",
      "source": [
        "def cat_summary(x):\n",
        "    return pd.Series([x.count(), x.isnull().sum(), x.value_counts()],\n",
        "                  index=['N', 'NMISS', 'ColumnsNames'])\n",
        "\n",
        "cat_summary=train_cat.apply(cat_summary)"
      ],
      "metadata": {
        "id": "Z8o9JoAg4U2L"
      },
      "execution_count": null,
      "outputs": []
    },
    {
      "cell_type": "code",
      "source": [
        "cat_summary"
      ],
      "metadata": {
        "id": "Ne54dHPJ4W1g"
      },
      "execution_count": null,
      "outputs": []
    },
    {
      "cell_type": "code",
      "source": [
        "# An utility function to create dummy variable\n",
        "def create_dummies( df, colname ):\n",
        "    col_dummies = pd.get_dummies(df[colname], prefix=colname, drop_first=True)\n",
        "    df = pd.concat([df, col_dummies], axis=1)\n",
        "    df.drop( colname, axis = 1, inplace = True )\n",
        "    return(df)"
      ],
      "metadata": {
        "id": "-OETrHs_4Zd0"
      },
      "execution_count": null,
      "outputs": []
    },
    {
      "cell_type": "code",
      "source": [
        "#for c_feature in categorical_features\n",
        "for c_feature in ['protocol_type', 'service', 'flag', 'attack']:\n",
        "    train_cat = create_dummies(train_cat,c_feature)\n",
        "    test_cat = create_dummies(test_cat,c_feature)\n",
        "train_cat.head()"
      ],
      "metadata": {
        "id": "wLqHNfQd4bFn"
      },
      "execution_count": null,
      "outputs": []
    },
    {
      "cell_type": "code",
      "source": [
        "train_new = pd.concat([train_num, train_cat], axis=1)\n",
        "test_new = pd.concat([test_num, test_cat], axis=1)\n",
        "train_new.head()"
      ],
      "metadata": {
        "id": "Oo7DDqIr4d5n"
      },
      "execution_count": null,
      "outputs": []
    },
    {
      "cell_type": "code",
      "source": [
        "# correlation matrix (ranges from 1 to -1)\n",
        "corrm=train_new.corr()\n",
        "corrm"
      ],
      "metadata": {
        "id": "lCfXn_Ob4ejr"
      },
      "execution_count": null,
      "outputs": []
    },
    {
      "cell_type": "code",
      "source": [
        "corrm.to_csv('corrm.csv')"
      ],
      "metadata": {
        "id": "eq0wlwF64jLl"
      },
      "execution_count": null,
      "outputs": []
    },
    {
      "cell_type": "code",
      "source": [
        "# visualize correlation matrix in Seaborn using a heatmap\n",
        "sns.heatmap(corrm)"
      ],
      "metadata": {
        "id": "n-SautKB4lRt"
      },
      "execution_count": null,
      "outputs": []
    },
    {
      "cell_type": "code",
      "source": [
        "train_new.drop(columns=['land','wrong_fragment','urgent','num_failed_logins',\"root_shell\",\"su_attempted\",\"num_root\",\n",
        "                        \"num_file_creations\",\"num_shells\",\"num_access_files\",\"num_outbound_cmds\",\"is_host_login\",\"is_guest_login\",\n",
        "                        'dst_host_rerror_rate','dst_host_serror_rate','dst_host_srv_rerror_rate','dst_host_srv_serror_rate',\n",
        "                        'num_root','num_outbound_cmds','srv_rerror_rate','srv_serror_rate'], axis=1, inplace=True)"
      ],
      "metadata": {
        "id": "WIo2mKgI42RD"
      },
      "execution_count": null,
      "outputs": []
    },
    {
      "cell_type": "code",
      "source": [
        "sns.heatmap(train_new.corr())"
      ],
      "metadata": {
        "id": "Osj-xF_544gY"
      },
      "execution_count": null,
      "outputs": []
    },
    {
      "cell_type": "code",
      "source": [
        "X = train_new[train_new.columns.difference(['attack_class'])]\n",
        "X_new = SelectKBest(f_classif, k=15).fit(X, train_new['attack_class'] )"
      ],
      "metadata": {
        "id": "HrcHOzFbTuue"
      },
      "execution_count": null,
      "outputs": []
    },
    {
      "cell_type": "code",
      "source": [
        "X_new.get_support()"
      ],
      "metadata": {
        "id": "jHFyARiQT09t"
      },
      "execution_count": null,
      "outputs": []
    },
    {
      "cell_type": "code",
      "source": [
        "X_new.scores_"
      ],
      "metadata": {
        "id": "_sKuuvjQT4Q1"
      },
      "execution_count": null,
      "outputs": []
    },
    {
      "cell_type": "code",
      "source": [
        "# capturing the important variables\n",
        "KBest_features=X.columns[X_new.get_support()]\n",
        "KBest_features"
      ],
      "metadata": {
        "id": "haHe2a-MT8-C"
      },
      "execution_count": null,
      "outputs": []
    },
    {
      "cell_type": "code",
      "source": [
        "train=train_new\n",
        "test=test_new"
      ],
      "metadata": {
        "id": "6jOWg91AUEHl"
      },
      "execution_count": null,
      "outputs": []
    },
    {
      "cell_type": "code",
      "source": [
        "top_features=['attack_neptune','attack_normal','attack_satan','count','dst_host_diff_srv_rate','dst_host_same_src_port_rate','dst_host_same_srv_rate','dst_host_srv_count','flag_S0','flag_SF','last_flag','logged_in','same_srv_rate','serror_rate','service_http']\n",
        "X_train = train[top_features]\n",
        "y_train = train['attack_class']\n",
        "X_test = test[top_features]\n",
        "y_test = test['attack_class']"
      ],
      "metadata": {
        "id": "SM7lQB2cUUYF"
      },
      "execution_count": null,
      "outputs": []
    },
    {
      "cell_type": "markdown",
      "source": [
        "**KNN **"
      ],
      "metadata": {
        "id": "2SGp82rZdK_M"
      }
    },
    {
      "cell_type": "code",
      "source": [
        "from sklearn.neighbors import KNeighborsClassifier\n",
        "sklearn.metrics import confusion_matrix"
      ],
      "metadata": {
        "id": "ji8Z0Zu0dNkK"
      },
      "execution_count": null,
      "outputs": []
    },
    {
      "cell_type": "code",
      "source": [
        "k_neigh = KNeighborsClassifier(n_neighbors=3)\n",
        "k_neigh.fit(X_train, y_train)"
      ],
      "metadata": {
        "id": "-1SUaE28dQYG"
      },
      "execution_count": null,
      "outputs": []
    },
    {
      "cell_type": "code",
      "source": [
        "y_pred=k_neigh.predict(X_test)\n",
        "y_pred"
      ],
      "metadata": {
        "id": "QVqsiGoLdS1l"
      },
      "execution_count": null,
      "outputs": []
    },
    {
      "cell_type": "code",
      "source": [
        "from sklearn.metrics import accuracy_score\n",
        "accuracy_score(y_test, y_pred)"
      ],
      "metadata": {
        "id": "WKddRd6udYL2"
      },
      "execution_count": null,
      "outputs": []
    },
    {
      "cell_type": "code",
      "source": [
        "cm = confusion_matrix(y_test, y_pred)\n",
        "print(\"Confusion Matrix:\")\n",
        "print(cm)"
      ],
      "metadata": {
        "id": "WUC_BGYfIaSe"
      },
      "execution_count": null,
      "outputs": []
    },
    {
      "cell_type": "markdown",
      "source": [
        "**LinearDiscriminantAnalysis**"
      ],
      "metadata": {
        "id": "3nuRInM9eAn4"
      }
    },
    {
      "cell_type": "code",
      "source": [
        "from sklearn.discriminant_analysis import LinearDiscriminantAnalysis"
      ],
      "metadata": {
        "id": "XMuMvZWHdebp"
      },
      "execution_count": null,
      "outputs": []
    },
    {
      "cell_type": "code",
      "source": [
        "lda = LinearDiscriminantAnalysis()\n",
        "lda.fit(X_train, y_train)"
      ],
      "metadata": {
        "id": "ZeLPLrVCeEtE"
      },
      "execution_count": null,
      "outputs": []
    },
    {
      "cell_type": "code",
      "source": [
        "y_pred=lda.predict(X_test)\n",
        "y_pred"
      ],
      "metadata": {
        "id": "h3-QPJEteIk4"
      },
      "execution_count": null,
      "outputs": []
    },
    {
      "cell_type": "code",
      "source": [
        "from sklearn.metrics import accuracy_score\n",
        "accuracy_score(y_test, y_pred)"
      ],
      "metadata": {
        "id": "wN7TUxYIeKzC"
      },
      "execution_count": null,
      "outputs": []
    },
    {
      "cell_type": "code",
      "source": [
        "cm = confusion_matrix(y_test, y_pred)\n",
        "print(\"Confusion Matrix:\")\n",
        "print(cm)"
      ],
      "metadata": {
        "id": "j191j2dPIbS7"
      },
      "execution_count": null,
      "outputs": []
    },
    {
      "cell_type": "markdown",
      "source": [
        "**Neural Network Model**"
      ],
      "metadata": {
        "id": "K34UbjUdfMuh"
      }
    },
    {
      "cell_type": "code",
      "source": [
        "from sklearn.preprocessing import StandardScaler\n",
        "from sklearn.neural_network import MLPClassifier\n",
        "scaler = StandardScaler()\n",
        "# Fit only to the training data\n",
        "scaler.fit(X_train)"
      ],
      "metadata": {
        "id": "GCkTboI0fVbS"
      },
      "execution_count": null,
      "outputs": []
    },
    {
      "cell_type": "code",
      "source": [
        "# Now apply the transformations to the data:\n",
        "train_X = scaler.transform(X_train)\n",
        "test_X = scaler.transform(X_test)"
      ],
      "metadata": {
        "id": "qe-klcw5faSk"
      },
      "execution_count": null,
      "outputs": []
    },
    {
      "cell_type": "code",
      "source": [
        "mlp = MLPClassifier(hidden_layer_sizes=(30,30,30))\n",
        "mlp.fit(train_X,y_train)"
      ],
      "metadata": {
        "id": "sFe9D0TTfeJh"
      },
      "execution_count": null,
      "outputs": []
    },
    {
      "cell_type": "code",
      "source": [
        "y_pred=mlp.predict(test_X)\n",
        "y_pred"
      ],
      "metadata": {
        "id": "pvlEAfwhfiPo"
      },
      "execution_count": null,
      "outputs": []
    },
    {
      "cell_type": "code",
      "source": [
        "from sklearn.metrics import classification_report,confusion_matrix\n",
        "print(confusion_matrix(y_test,y_pred))"
      ],
      "metadata": {
        "id": "vxjAZvW9fkmc"
      },
      "execution_count": null,
      "outputs": []
    },
    {
      "cell_type": "code",
      "source": [
        "print(classification_report(y_test,y_pred))"
      ],
      "metadata": {
        "id": "J07cg7GAfwoU"
      },
      "execution_count": null,
      "outputs": []
    },
    {
      "cell_type": "code",
      "source": [
        "mlp.coefs_"
      ],
      "metadata": {
        "id": "2gdv3Knmfyhf"
      },
      "execution_count": null,
      "outputs": []
    },
    {
      "cell_type": "code",
      "source": [
        "accuracy_score( y_test, y_pred )"
      ],
      "metadata": {
        "id": "vV2kEV-Af4ed"
      },
      "execution_count": null,
      "outputs": []
    },
    {
      "cell_type": "code",
      "source": [
        "cm = confusion_matrix(y_test, y_pred)\n",
        "print(\"Confusion Matrix:\")\n",
        "print(cm)"
      ],
      "metadata": {
        "id": "ak0PVwiSIcfH"
      },
      "execution_count": null,
      "outputs": []
    },
    {
      "cell_type": "markdown",
      "source": [
        "**Voting Ensemble**\n",
        "Voting is one of the simplest ways of combining the predictions from multiple machine learning algorithms.\n",
        "\n",
        "It works by first creating two or more standalone models from your training dataset. A Voting Classifier can then be used to wrap your models and average the predictions of the sub-models when asked to make predictions for new data.\n",
        "\n",
        "The predictions of the sub-models can be weighted, but specifying the weights for classifiers manually or even heuristically is difficult. More advanced methods can learn how to best weight the predictions from submodels, but this is called stacking (stacked generalization) and is currently not provided in scikit-learn."
      ],
      "metadata": {
        "id": "LalBvKQ-hMFu"
      }
    },
    {
      "cell_type": "code",
      "source": [
        "from sklearn.ensemble import VotingClassifier\n",
        "from sklearn.neighbors import KNeighborsClassifier\n",
        "from sklearn.discriminant_analysis import LinearDiscriminantAnalysis\n",
        "from sklearn.neural_network import MLPClassifier\n",
        "from sklearn.preprocessing import StandardScaler\n",
        "from sklearn.metrics import accuracy_scorefrom"
      ],
      "metadata": {
        "id": "Dr1mqZ2NhiCM"
      },
      "execution_count": null,
      "outputs": []
    },
    {
      "cell_type": "code",
      "source": [
        "# Preprocess the data for MLP\n",
        "scaler = StandardScaler()\n",
        "scaler.fit(X_train)\n",
        "train_X = scaler.transform(X_train)\n",
        "test_X = scaler.transform(X_test)"
      ],
      "metadata": {
        "id": "Bffu1Vbpkfr0"
      },
      "execution_count": null,
      "outputs": []
    },
    {
      "cell_type": "code",
      "source": [
        "# Initialize individual models\n",
        "k_neigh = KNeighborsClassifier(n_neighbors=3)\n",
        "lda = LinearDiscriminantAnalysis()\n",
        "mlp = MLPClassifier(hidden_layer_sizes=(30, 30, 30))"
      ],
      "metadata": {
        "id": "TqIsnFgQkipN"
      },
      "execution_count": null,
      "outputs": []
    },
    {
      "cell_type": "code",
      "source": [
        "# Create a voting classifier\n",
        "voting_clf = VotingClassifier(\n",
        "    estimators=[\n",
        "        ('knn', k_neigh),\n",
        "        ('lda', lda),\n",
        "        ('mlp', mlp)\n",
        "    ],\n",
        "    voting='hard'  # For majority voting; use 'soft' if you want to weight by probabilities\n",
        ")"
      ],
      "metadata": {
        "id": "mYFpg09zklVV"
      },
      "execution_count": null,
      "outputs": []
    },
    {
      "cell_type": "code",
      "source": [
        "# Fit the voting classifier\n",
        "# Note: MLP requires scaled data, so pass scaled data for it during fitting\n",
        "voting_clf.fit(train_X, y_train)"
      ],
      "metadata": {
        "id": "xknYgLTqkoyS"
      },
      "execution_count": null,
      "outputs": []
    },
    {
      "cell_type": "code",
      "source": [
        "# Predict and evaluate\n",
        "y_pred = voting_clf.predict(test_X)\n",
        "print(\"Accuracy:\", accuracy_score(y_test, y_pred))"
      ],
      "metadata": {
        "id": "UtOHELgYkwYM"
      },
      "execution_count": null,
      "outputs": []
    },
    {
      "cell_type": "code",
      "source": [
        "cm = confusion_matrix(y_test, y_pred)\n",
        "print(\"Confusion Matrix:\")\n",
        "print(cm)"
      ],
      "metadata": {
        "id": "QQd1Kg2TId17"
      },
      "execution_count": null,
      "outputs": []
    },
    {
      "cell_type": "code",
      "source": [
        "# Example new data (replace with actual data)\n",
        "new_data = [[1,0,0,229,0.06,0.00,0.04,10,0,0,21,0,0.04,0.00,0]]\n",
        "\n",
        "# Preprocess the new data if necessary (e.g., scaling)\n",
        "new_data_scaled = scaler.transform(new_data)  # Scale using the same scaler used for training\n",
        "\n",
        "# Predict class labels for new data\n",
        "predictions = voting_clf.predict(new_data_scaled)\n",
        "print(\"Predictions:\", predictions)\n"
      ],
      "metadata": {
        "id": "70nceSUypynh"
      },
      "execution_count": null,
      "outputs": []
    }
  ]
}